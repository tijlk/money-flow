{
 "cells": [
  {
   "cell_type": "code",
   "execution_count": null,
   "id": "0",
   "metadata": {},
   "outputs": [],
   "source": [
    "import os\n",
    "from dotenv import load_dotenv\n",
    "import warnings\n",
    "import json\n",
    "from google.cloud import secretmanager\n",
    "import functions_framework\n",
    "import os\n",
    "import time"
   ]
  },
  {
   "cell_type": "code",
   "execution_count": null,
   "id": "1",
   "metadata": {},
   "outputs": [],
   "source": [
    "os.chdir(\"/Users/eq81tw/Developer/money-flow\")\n",
    "from src.allocation import FireStore\n",
    "from src.automate import AutomateAllocations\n",
    "from src.bunq import BunqLib"
   ]
  },
  {
   "cell_type": "code",
   "execution_count": null,
   "id": "2",
   "metadata": {},
   "outputs": [],
   "source": [
    "def get_secret_value(secret_name, project_id):\n",
    "    client = secretmanager.SecretManagerServiceClient()\n",
    "    secret_version_name = client.secret_version_path(project_id, secret_name, \"latest\")\n",
    "    response = client.access_secret_version(name=secret_version_name)\n",
    "    return response.payload.data.decode(\"UTF-8\")"
   ]
  },
  {
   "cell_type": "code",
   "execution_count": null,
   "id": "3",
   "metadata": {},
   "outputs": [],
   "source": [
    "warnings.filterwarnings(\"ignore\")\n",
    "load_dotenv(override=True)\n",
    "\n",
    "PROJECT_ID = os.getenv(\"PROJECT_ID\")\n",
    "API_KEY = get_secret_value(\"bunq_api_key\", PROJECT_ID)\n",
    "GOOGLE_FIRESTORE_CONFIG = json.loads(\n",
    "    get_secret_value(\"firebase_service_account\", PROJECT_ID)\n",
    ")\n",
    "API_CONTEXT_FILE_PATH = os.getenv(\"BUNQ_FILE_NAME\")\n",
    "ENVIRONMENT = os.getenv(\"ENVIRONMENT\")\n",
    "DEVICE_DESCRIPTION = os.getenv(\"DESCRIPTION\")\n",
    "SIMULATE = os.getenv(\"SIMULATE\", \"False\").lower() in (\"true\", \"1\", \"t\")"
   ]
  },
  {
   "cell_type": "code",
   "execution_count": null,
   "id": "4",
   "metadata": {},
   "outputs": [],
   "source": [
    "try:\n",
    "    store_ = FireStore(config=GOOGLE_FIRESTORE_CONFIG)\n",
    "except Exception as error:\n",
    "    print(\"An error occurred:\", type(error).__name__, \"–\", error)\n",
    "    print(\"Are you on VPN maybe?\")\n",
    "    exit(1)"
   ]
  },
  {
   "cell_type": "code",
   "execution_count": null,
   "id": "5",
   "metadata": {},
   "outputs": [],
   "source": [
    "bunq_ = BunqLib(\n",
    "    api_key=API_KEY,\n",
    "    environment_type=ENVIRONMENT,\n",
    "    device_description=DEVICE_DESCRIPTION,\n",
    "    api_context_file_path=API_CONTEXT_FILE_PATH,\n",
    ")"
   ]
  },
  {
   "cell_type": "code",
   "execution_count": null,
   "id": "6",
   "metadata": {},
   "outputs": [],
   "source": [
    "bunq_.connect()"
   ]
  },
  {
   "cell_type": "code",
   "execution_count": null,
   "id": "7",
   "metadata": {},
   "outputs": [],
   "source": [
    "from bunq.sdk.http.pagination import Pagination\n",
    "from bunq.sdk.model.generated.endpoint import (\n",
    "    MonetaryAccountApiObject,\n",
    "    PaymentApiObject,\n",
    "    MonetaryAccountBankApiObject,\n",
    "    MonetaryAccountJointApiObject,\n",
    "    MonetaryAccountSavingsApiObject,\n",
    ")\n",
    "\n",
    "pagination = Pagination()\n",
    "pagination.count = 200\n",
    "all_accounts = []\n",
    "i = 0\n"
   ]
  },
  {
   "cell_type": "code",
   "execution_count": null,
   "id": "8",
   "metadata": {},
   "outputs": [],
   "source": [
    "def get_some_accounts(pagination, first_time=False):\n",
    "    if first_time:\n",
    "        params = pagination.url_params_count_only\n",
    "    else:\n",
    "        params = pagination.url_params_previous_page\n",
    "    response = MonetaryAccountSavingsApiObject.list(params=params)\n",
    "    return response.value, response.pagination"
   ]
  },
  {
   "cell_type": "code",
   "execution_count": null,
   "id": "9",
   "metadata": {},
   "outputs": [],
   "source": [
    "pagination = Pagination()\n",
    "pagination.count = 200\n",
    "all_accounts = []\n",
    "i = 0\n",
    "accounts, pagination = get_some_accounts(pagination, first_time=True)\n",
    "time.sleep(1.1)\n",
    "\n",
    "all_accounts.extend(accounts)\n",
    "while pagination.has_previous_page():\n",
    "    accounts, pagination = get_some_accounts(pagination)\n",
    "    time.sleep(1.1)\n",
    "    all_accounts.extend(accounts)\n",
    "    i += 1\n",
    "all_accounts"
   ]
  },
  {
   "cell_type": "code",
   "execution_count": null,
   "id": "10",
   "metadata": {},
   "outputs": [],
   "source": [
    "for i, account in enumerate(all_accounts):\n",
    "    print(account.description, account.status)"
   ]
  },
  {
   "cell_type": "code",
   "execution_count": null,
   "id": "11",
   "metadata": {},
   "outputs": [],
   "source": [
    "account = all_accounts[-2]"
   ]
  },
  {
   "cell_type": "code",
   "execution_count": null,
   "id": "12",
   "metadata": {},
   "outputs": [],
   "source": [
    "account.description"
   ]
  },
  {
   "cell_type": "code",
   "execution_count": null,
   "id": "13",
   "metadata": {},
   "outputs": [],
   "source": [
    "vars(account)"
   ]
  },
  {
   "cell_type": "code",
   "execution_count": null,
   "id": "14",
   "metadata": {},
   "outputs": [],
   "source": [
    "account"
   ]
  },
  {
   "cell_type": "code",
   "execution_count": null,
   "id": "15",
   "metadata": {},
   "outputs": [],
   "source": [
    "AutomateAllocations(bunq=bunq_, store=store_, simulate=SIMULATE).run()\n"
   ]
  },
  {
   "cell_type": "code",
   "execution_count": null,
   "id": "16",
   "metadata": {},
   "outputs": [],
   "source": []
  }
 ],
 "metadata": {
  "kernelspec": {
   "display_name": ".venv",
   "language": "python",
   "name": "python3"
  },
  "language_info": {
   "codemirror_mode": {
    "name": "ipython",
    "version": 3
   },
   "file_extension": ".py",
   "mimetype": "text/x-python",
   "name": "python",
   "nbconvert_exporter": "python",
   "pygments_lexer": "ipython3",
   "version": "3.9.6"
  }
 },
 "nbformat": 4,
 "nbformat_minor": 5
}
